{
 "cells": [
  {
   "cell_type": "code",
   "execution_count": 1,
   "metadata": {},
   "outputs": [],
   "source": [
    "import pandas as pd\n"
   ]
  },
  {
   "cell_type": "code",
   "execution_count": 26,
   "metadata": {},
   "outputs": [],
   "source": [
    "# Reading csv file"
   ]
  },
  {
   "cell_type": "code",
   "execution_count": 2,
   "metadata": {},
   "outputs": [],
   "source": [
    "df1 = pd.read_csv('income.csv')"
   ]
  },
  {
   "cell_type": "code",
   "execution_count": 4,
   "metadata": {},
   "outputs": [
    {
     "data": {
      "text/plain": [
       "32445"
      ]
     },
     "execution_count": 4,
     "metadata": {},
     "output_type": "execute_result"
    }
   ],
   "source": [
    "len(df1)"
   ]
  },
  {
   "cell_type": "code",
   "execution_count": 5,
   "metadata": {},
   "outputs": [
    {
     "ename": "NameError",
     "evalue": "name 'sort' is not defined",
     "output_type": "error",
     "traceback": [
      "\u001b[1;31m---------------------------------------------------------------------------\u001b[0m",
      "\u001b[1;31mNameError\u001b[0m                                 Traceback (most recent call last)",
      "\u001b[1;32m<ipython-input-5-0c3cc2cc10fc>\u001b[0m in \u001b[0;36m<module>\u001b[1;34m\u001b[0m\n\u001b[1;32m----> 1\u001b[1;33m \u001b[0msort\u001b[0m\u001b[1;33m(\u001b[0m\u001b[0mdf1\u001b[0m\u001b[1;33m)\u001b[0m\u001b[1;33m\u001b[0m\u001b[1;33m\u001b[0m\u001b[0m\n\u001b[0m",
      "\u001b[1;31mNameError\u001b[0m: name 'sort' is not defined"
     ]
    }
   ],
   "source": [
    "sort(df1)"
   ]
  },
  {
   "cell_type": "code",
   "execution_count": 6,
   "metadata": {},
   "outputs": [
    {
     "data": {
      "text/plain": [
       "['Industry_aggregation_NZSIOC',\n",
       " 'Industry_code_ANZSIC06',\n",
       " 'Industry_code_NZSIOC',\n",
       " 'Industry_name_NZSIOC',\n",
       " 'Units',\n",
       " 'Value',\n",
       " 'Variable_category',\n",
       " 'Variable_code',\n",
       " 'Variable_name',\n",
       " 'Year']"
      ]
     },
     "execution_count": 6,
     "metadata": {},
     "output_type": "execute_result"
    }
   ],
   "source": [
    "sorted(df1)"
   ]
  },
  {
   "cell_type": "code",
   "execution_count": 7,
   "metadata": {},
   "outputs": [
    {
     "data": {
      "text/html": [
       "<div>\n",
       "<style scoped>\n",
       "    .dataframe tbody tr th:only-of-type {\n",
       "        vertical-align: middle;\n",
       "    }\n",
       "\n",
       "    .dataframe tbody tr th {\n",
       "        vertical-align: top;\n",
       "    }\n",
       "\n",
       "    .dataframe thead th {\n",
       "        text-align: right;\n",
       "    }\n",
       "</style>\n",
       "<table border=\"1\" class=\"dataframe\">\n",
       "  <thead>\n",
       "    <tr style=\"text-align: right;\">\n",
       "      <th></th>\n",
       "      <th>Year</th>\n",
       "      <th>Industry_aggregation_NZSIOC</th>\n",
       "      <th>Industry_code_NZSIOC</th>\n",
       "      <th>Industry_name_NZSIOC</th>\n",
       "      <th>Units</th>\n",
       "      <th>Variable_code</th>\n",
       "      <th>Variable_name</th>\n",
       "      <th>Variable_category</th>\n",
       "      <th>Value</th>\n",
       "      <th>Industry_code_ANZSIC06</th>\n",
       "    </tr>\n",
       "  </thead>\n",
       "  <tbody>\n",
       "    <tr>\n",
       "      <th>0</th>\n",
       "      <td>2019</td>\n",
       "      <td>Level 1</td>\n",
       "      <td>99999</td>\n",
       "      <td>All industries</td>\n",
       "      <td>Dollars (millions)</td>\n",
       "      <td>H01</td>\n",
       "      <td>Total income</td>\n",
       "      <td>Financial performance</td>\n",
       "      <td>728,239</td>\n",
       "      <td>ANZSIC06 divisions A-S (excluding classes K633...</td>\n",
       "    </tr>\n",
       "    <tr>\n",
       "      <th>1</th>\n",
       "      <td>2019</td>\n",
       "      <td>Level 1</td>\n",
       "      <td>99999</td>\n",
       "      <td>All industries</td>\n",
       "      <td>Dollars (millions)</td>\n",
       "      <td>H04</td>\n",
       "      <td>Sales, government funding, grants and subsidies</td>\n",
       "      <td>Financial performance</td>\n",
       "      <td>643,809</td>\n",
       "      <td>ANZSIC06 divisions A-S (excluding classes K633...</td>\n",
       "    </tr>\n",
       "    <tr>\n",
       "      <th>2</th>\n",
       "      <td>2019</td>\n",
       "      <td>Level 1</td>\n",
       "      <td>99999</td>\n",
       "      <td>All industries</td>\n",
       "      <td>Dollars (millions)</td>\n",
       "      <td>H05</td>\n",
       "      <td>Interest, dividends and donations</td>\n",
       "      <td>Financial performance</td>\n",
       "      <td>62,924</td>\n",
       "      <td>ANZSIC06 divisions A-S (excluding classes K633...</td>\n",
       "    </tr>\n",
       "    <tr>\n",
       "      <th>3</th>\n",
       "      <td>2019</td>\n",
       "      <td>Level 1</td>\n",
       "      <td>99999</td>\n",
       "      <td>All industries</td>\n",
       "      <td>Dollars (millions)</td>\n",
       "      <td>H07</td>\n",
       "      <td>Non-operating income</td>\n",
       "      <td>Financial performance</td>\n",
       "      <td>21,505</td>\n",
       "      <td>ANZSIC06 divisions A-S (excluding classes K633...</td>\n",
       "    </tr>\n",
       "    <tr>\n",
       "      <th>4</th>\n",
       "      <td>2019</td>\n",
       "      <td>Level 1</td>\n",
       "      <td>99999</td>\n",
       "      <td>All industries</td>\n",
       "      <td>Dollars (millions)</td>\n",
       "      <td>H08</td>\n",
       "      <td>Total expenditure</td>\n",
       "      <td>Financial performance</td>\n",
       "      <td>634,710</td>\n",
       "      <td>ANZSIC06 divisions A-S (excluding classes K633...</td>\n",
       "    </tr>\n",
       "    <tr>\n",
       "      <th>...</th>\n",
       "      <td>...</td>\n",
       "      <td>...</td>\n",
       "      <td>...</td>\n",
       "      <td>...</td>\n",
       "      <td>...</td>\n",
       "      <td>...</td>\n",
       "      <td>...</td>\n",
       "      <td>...</td>\n",
       "      <td>...</td>\n",
       "      <td>...</td>\n",
       "    </tr>\n",
       "    <tr>\n",
       "      <th>32440</th>\n",
       "      <td>2013</td>\n",
       "      <td>Level 3</td>\n",
       "      <td>ZZ11</td>\n",
       "      <td>Food product manufacturing</td>\n",
       "      <td>Percentage</td>\n",
       "      <td>H37</td>\n",
       "      <td>Quick ratio</td>\n",
       "      <td>Financial ratios</td>\n",
       "      <td>52</td>\n",
       "      <td>ANZSIC06 groups C111, C112, C113, C114, C115, ...</td>\n",
       "    </tr>\n",
       "    <tr>\n",
       "      <th>32441</th>\n",
       "      <td>2013</td>\n",
       "      <td>Level 3</td>\n",
       "      <td>ZZ11</td>\n",
       "      <td>Food product manufacturing</td>\n",
       "      <td>Percentage</td>\n",
       "      <td>H38</td>\n",
       "      <td>Margin on sales of goods for resale</td>\n",
       "      <td>Financial ratios</td>\n",
       "      <td>40</td>\n",
       "      <td>ANZSIC06 groups C111, C112, C113, C114, C115, ...</td>\n",
       "    </tr>\n",
       "    <tr>\n",
       "      <th>32442</th>\n",
       "      <td>2013</td>\n",
       "      <td>Level 3</td>\n",
       "      <td>ZZ11</td>\n",
       "      <td>Food product manufacturing</td>\n",
       "      <td>Percentage</td>\n",
       "      <td>H39</td>\n",
       "      <td>Return on equity</td>\n",
       "      <td>Financial ratios</td>\n",
       "      <td>12</td>\n",
       "      <td>ANZSIC06 groups C111, C112, C113, C114, C115, ...</td>\n",
       "    </tr>\n",
       "    <tr>\n",
       "      <th>32443</th>\n",
       "      <td>2013</td>\n",
       "      <td>Level 3</td>\n",
       "      <td>ZZ11</td>\n",
       "      <td>Food product manufacturing</td>\n",
       "      <td>Percentage</td>\n",
       "      <td>H40</td>\n",
       "      <td>Return on total assets</td>\n",
       "      <td>Financial ratios</td>\n",
       "      <td>5</td>\n",
       "      <td>ANZSIC06 groups C111, C112, C113, C114, C115, ...</td>\n",
       "    </tr>\n",
       "    <tr>\n",
       "      <th>32444</th>\n",
       "      <td>2013</td>\n",
       "      <td>Level 3</td>\n",
       "      <td>ZZ11</td>\n",
       "      <td>Food product manufacturing</td>\n",
       "      <td>Percentage</td>\n",
       "      <td>H41</td>\n",
       "      <td>Liabilities structure</td>\n",
       "      <td>Financial ratios</td>\n",
       "      <td>46</td>\n",
       "      <td>ANZSIC06 groups C111, C112, C113, C114, C115, ...</td>\n",
       "    </tr>\n",
       "  </tbody>\n",
       "</table>\n",
       "<p>32445 rows × 10 columns</p>\n",
       "</div>"
      ],
      "text/plain": [
       "       Year Industry_aggregation_NZSIOC Industry_code_NZSIOC  \\\n",
       "0      2019                     Level 1                99999   \n",
       "1      2019                     Level 1                99999   \n",
       "2      2019                     Level 1                99999   \n",
       "3      2019                     Level 1                99999   \n",
       "4      2019                     Level 1                99999   \n",
       "...     ...                         ...                  ...   \n",
       "32440  2013                     Level 3                 ZZ11   \n",
       "32441  2013                     Level 3                 ZZ11   \n",
       "32442  2013                     Level 3                 ZZ11   \n",
       "32443  2013                     Level 3                 ZZ11   \n",
       "32444  2013                     Level 3                 ZZ11   \n",
       "\n",
       "             Industry_name_NZSIOC               Units Variable_code  \\\n",
       "0                  All industries  Dollars (millions)           H01   \n",
       "1                  All industries  Dollars (millions)           H04   \n",
       "2                  All industries  Dollars (millions)           H05   \n",
       "3                  All industries  Dollars (millions)           H07   \n",
       "4                  All industries  Dollars (millions)           H08   \n",
       "...                           ...                 ...           ...   \n",
       "32440  Food product manufacturing          Percentage           H37   \n",
       "32441  Food product manufacturing          Percentage           H38   \n",
       "32442  Food product manufacturing          Percentage           H39   \n",
       "32443  Food product manufacturing          Percentage           H40   \n",
       "32444  Food product manufacturing          Percentage           H41   \n",
       "\n",
       "                                         Variable_name      Variable_category  \\\n",
       "0                                         Total income  Financial performance   \n",
       "1      Sales, government funding, grants and subsidies  Financial performance   \n",
       "2                    Interest, dividends and donations  Financial performance   \n",
       "3                                 Non-operating income  Financial performance   \n",
       "4                                    Total expenditure  Financial performance   \n",
       "...                                                ...                    ...   \n",
       "32440                                      Quick ratio       Financial ratios   \n",
       "32441              Margin on sales of goods for resale       Financial ratios   \n",
       "32442                                 Return on equity       Financial ratios   \n",
       "32443                           Return on total assets       Financial ratios   \n",
       "32444                            Liabilities structure       Financial ratios   \n",
       "\n",
       "         Value                             Industry_code_ANZSIC06  \n",
       "0      728,239  ANZSIC06 divisions A-S (excluding classes K633...  \n",
       "1      643,809  ANZSIC06 divisions A-S (excluding classes K633...  \n",
       "2       62,924  ANZSIC06 divisions A-S (excluding classes K633...  \n",
       "3       21,505  ANZSIC06 divisions A-S (excluding classes K633...  \n",
       "4      634,710  ANZSIC06 divisions A-S (excluding classes K633...  \n",
       "...        ...                                                ...  \n",
       "32440       52  ANZSIC06 groups C111, C112, C113, C114, C115, ...  \n",
       "32441       40  ANZSIC06 groups C111, C112, C113, C114, C115, ...  \n",
       "32442       12  ANZSIC06 groups C111, C112, C113, C114, C115, ...  \n",
       "32443        5  ANZSIC06 groups C111, C112, C113, C114, C115, ...  \n",
       "32444       46  ANZSIC06 groups C111, C112, C113, C114, C115, ...  \n",
       "\n",
       "[32445 rows x 10 columns]"
      ]
     },
     "execution_count": 7,
     "metadata": {},
     "output_type": "execute_result"
    }
   ],
   "source": [
    "df1"
   ]
  },
  {
   "cell_type": "code",
   "execution_count": 8,
   "metadata": {},
   "outputs": [
    {
     "data": {
      "text/html": [
       "<div>\n",
       "<style scoped>\n",
       "    .dataframe tbody tr th:only-of-type {\n",
       "        vertical-align: middle;\n",
       "    }\n",
       "\n",
       "    .dataframe tbody tr th {\n",
       "        vertical-align: top;\n",
       "    }\n",
       "\n",
       "    .dataframe thead th {\n",
       "        text-align: right;\n",
       "    }\n",
       "</style>\n",
       "<table border=\"1\" class=\"dataframe\">\n",
       "  <thead>\n",
       "    <tr style=\"text-align: right;\">\n",
       "      <th></th>\n",
       "      <th>Year</th>\n",
       "      <th>Industry_aggregation_NZSIOC</th>\n",
       "      <th>Industry_code_NZSIOC</th>\n",
       "      <th>Industry_name_NZSIOC</th>\n",
       "      <th>Units</th>\n",
       "      <th>Variable_code</th>\n",
       "      <th>Variable_name</th>\n",
       "      <th>Variable_category</th>\n",
       "      <th>Value</th>\n",
       "      <th>Industry_code_ANZSIC06</th>\n",
       "    </tr>\n",
       "  </thead>\n",
       "  <tbody>\n",
       "    <tr>\n",
       "      <th>0</th>\n",
       "      <td>2019</td>\n",
       "      <td>Level 1</td>\n",
       "      <td>99999</td>\n",
       "      <td>All industries</td>\n",
       "      <td>Dollars (millions)</td>\n",
       "      <td>H01</td>\n",
       "      <td>Total income</td>\n",
       "      <td>Financial performance</td>\n",
       "      <td>728,239</td>\n",
       "      <td>ANZSIC06 divisions A-S (excluding classes K633...</td>\n",
       "    </tr>\n",
       "    <tr>\n",
       "      <th>1</th>\n",
       "      <td>2019</td>\n",
       "      <td>Level 1</td>\n",
       "      <td>99999</td>\n",
       "      <td>All industries</td>\n",
       "      <td>Dollars (millions)</td>\n",
       "      <td>H04</td>\n",
       "      <td>Sales, government funding, grants and subsidies</td>\n",
       "      <td>Financial performance</td>\n",
       "      <td>643,809</td>\n",
       "      <td>ANZSIC06 divisions A-S (excluding classes K633...</td>\n",
       "    </tr>\n",
       "    <tr>\n",
       "      <th>2</th>\n",
       "      <td>2019</td>\n",
       "      <td>Level 1</td>\n",
       "      <td>99999</td>\n",
       "      <td>All industries</td>\n",
       "      <td>Dollars (millions)</td>\n",
       "      <td>H05</td>\n",
       "      <td>Interest, dividends and donations</td>\n",
       "      <td>Financial performance</td>\n",
       "      <td>62,924</td>\n",
       "      <td>ANZSIC06 divisions A-S (excluding classes K633...</td>\n",
       "    </tr>\n",
       "    <tr>\n",
       "      <th>3</th>\n",
       "      <td>2019</td>\n",
       "      <td>Level 1</td>\n",
       "      <td>99999</td>\n",
       "      <td>All industries</td>\n",
       "      <td>Dollars (millions)</td>\n",
       "      <td>H07</td>\n",
       "      <td>Non-operating income</td>\n",
       "      <td>Financial performance</td>\n",
       "      <td>21,505</td>\n",
       "      <td>ANZSIC06 divisions A-S (excluding classes K633...</td>\n",
       "    </tr>\n",
       "    <tr>\n",
       "      <th>4</th>\n",
       "      <td>2019</td>\n",
       "      <td>Level 1</td>\n",
       "      <td>99999</td>\n",
       "      <td>All industries</td>\n",
       "      <td>Dollars (millions)</td>\n",
       "      <td>H08</td>\n",
       "      <td>Total expenditure</td>\n",
       "      <td>Financial performance</td>\n",
       "      <td>634,710</td>\n",
       "      <td>ANZSIC06 divisions A-S (excluding classes K633...</td>\n",
       "    </tr>\n",
       "  </tbody>\n",
       "</table>\n",
       "</div>"
      ],
      "text/plain": [
       "   Year Industry_aggregation_NZSIOC Industry_code_NZSIOC Industry_name_NZSIOC  \\\n",
       "0  2019                     Level 1                99999       All industries   \n",
       "1  2019                     Level 1                99999       All industries   \n",
       "2  2019                     Level 1                99999       All industries   \n",
       "3  2019                     Level 1                99999       All industries   \n",
       "4  2019                     Level 1                99999       All industries   \n",
       "\n",
       "                Units Variable_code  \\\n",
       "0  Dollars (millions)           H01   \n",
       "1  Dollars (millions)           H04   \n",
       "2  Dollars (millions)           H05   \n",
       "3  Dollars (millions)           H07   \n",
       "4  Dollars (millions)           H08   \n",
       "\n",
       "                                     Variable_name      Variable_category  \\\n",
       "0                                     Total income  Financial performance   \n",
       "1  Sales, government funding, grants and subsidies  Financial performance   \n",
       "2                Interest, dividends and donations  Financial performance   \n",
       "3                             Non-operating income  Financial performance   \n",
       "4                                Total expenditure  Financial performance   \n",
       "\n",
       "     Value                             Industry_code_ANZSIC06  \n",
       "0  728,239  ANZSIC06 divisions A-S (excluding classes K633...  \n",
       "1  643,809  ANZSIC06 divisions A-S (excluding classes K633...  \n",
       "2   62,924  ANZSIC06 divisions A-S (excluding classes K633...  \n",
       "3   21,505  ANZSIC06 divisions A-S (excluding classes K633...  \n",
       "4  634,710  ANZSIC06 divisions A-S (excluding classes K633...  "
      ]
     },
     "execution_count": 8,
     "metadata": {},
     "output_type": "execute_result"
    }
   ],
   "source": [
    "df1.head()"
   ]
  },
  {
   "cell_type": "code",
   "execution_count": 9,
   "metadata": {},
   "outputs": [
    {
     "name": "stdout",
     "output_type": "stream",
     "text": [
      "int64\n"
     ]
    }
   ],
   "source": [
    "print(df1['Year'].dtype)"
   ]
  },
  {
   "cell_type": "code",
   "execution_count": 17,
   "metadata": {},
   "outputs": [
    {
     "name": "stdout",
     "output_type": "stream",
     "text": [
      "0        Level 1\n",
      "1        Level 1\n",
      "2        Level 1\n",
      "3        Level 1\n",
      "4        Level 1\n",
      "          ...   \n",
      "32440    Level 3\n",
      "32441    Level 3\n",
      "32442    Level 3\n",
      "32443    Level 3\n",
      "32444    Level 3\n",
      "Name: Industry_aggregation_NZSIOC, Length: 32445, dtype: category\n",
      "Categories (3, object): ['Level 1', 'Level 3', 'Level 4']\n"
     ]
    }
   ],
   "source": [
    "print(df1['Industry_aggregation_NZSIOC'].astype('category'))"
   ]
  },
  {
   "cell_type": "code",
   "execution_count": 18,
   "metadata": {},
   "outputs": [
    {
     "name": "stdout",
     "output_type": "stream",
     "text": [
      "['I', 'n', 'd', 'u', 's', 't', 'r', 'y', '_', 'a', 'g', 'g', 'r', 'e', 'g', 'a', 't', 'i', 'o', 'n', '_', 'N', 'Z', 'S', 'I', 'O', 'C']\n"
     ]
    }
   ],
   "source": [
    "print(list('Industry_aggregation_NZSIOC'))"
   ]
  },
  {
   "cell_type": "code",
   "execution_count": 21,
   "metadata": {},
   "outputs": [],
   "source": [
    "df = pd.DataFrame([[1,2,3,4],[5,6,7,8],[56,76,54,4],[9,76,44,33]],columns=['A','B','C','D'])"
   ]
  },
  {
   "cell_type": "code",
   "execution_count": 22,
   "metadata": {},
   "outputs": [
    {
     "data": {
      "text/html": [
       "<div>\n",
       "<style scoped>\n",
       "    .dataframe tbody tr th:only-of-type {\n",
       "        vertical-align: middle;\n",
       "    }\n",
       "\n",
       "    .dataframe tbody tr th {\n",
       "        vertical-align: top;\n",
       "    }\n",
       "\n",
       "    .dataframe thead th {\n",
       "        text-align: right;\n",
       "    }\n",
       "</style>\n",
       "<table border=\"1\" class=\"dataframe\">\n",
       "  <thead>\n",
       "    <tr style=\"text-align: right;\">\n",
       "      <th></th>\n",
       "      <th>A</th>\n",
       "      <th>B</th>\n",
       "      <th>C</th>\n",
       "      <th>D</th>\n",
       "    </tr>\n",
       "  </thead>\n",
       "  <tbody>\n",
       "    <tr>\n",
       "      <th>0</th>\n",
       "      <td>1</td>\n",
       "      <td>2</td>\n",
       "      <td>3</td>\n",
       "      <td>4</td>\n",
       "    </tr>\n",
       "    <tr>\n",
       "      <th>1</th>\n",
       "      <td>5</td>\n",
       "      <td>6</td>\n",
       "      <td>7</td>\n",
       "      <td>8</td>\n",
       "    </tr>\n",
       "    <tr>\n",
       "      <th>2</th>\n",
       "      <td>56</td>\n",
       "      <td>76</td>\n",
       "      <td>54</td>\n",
       "      <td>4</td>\n",
       "    </tr>\n",
       "    <tr>\n",
       "      <th>3</th>\n",
       "      <td>9</td>\n",
       "      <td>76</td>\n",
       "      <td>44</td>\n",
       "      <td>33</td>\n",
       "    </tr>\n",
       "  </tbody>\n",
       "</table>\n",
       "</div>"
      ],
      "text/plain": [
       "    A   B   C   D\n",
       "0   1   2   3   4\n",
       "1   5   6   7   8\n",
       "2  56  76  54   4\n",
       "3   9  76  44  33"
      ]
     },
     "execution_count": 22,
     "metadata": {},
     "output_type": "execute_result"
    }
   ],
   "source": [
    "df"
   ]
  },
  {
   "cell_type": "code",
   "execution_count": 24,
   "metadata": {},
   "outputs": [],
   "source": [
    "df.to_csv('Export.csv',index=False)"
   ]
  },
  {
   "cell_type": "code",
   "execution_count": null,
   "metadata": {},
   "outputs": [],
   "source": []
  }
 ],
 "metadata": {
  "kernelspec": {
   "display_name": "Python 3",
   "language": "python",
   "name": "python3"
  },
  "language_info": {
   "codemirror_mode": {
    "name": "ipython",
    "version": 3
   },
   "file_extension": ".py",
   "mimetype": "text/x-python",
   "name": "python",
   "nbconvert_exporter": "python",
   "pygments_lexer": "ipython3",
   "version": "3.8.2"
  }
 },
 "nbformat": 4,
 "nbformat_minor": 4
}
